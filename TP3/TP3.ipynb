{
  "nbformat": 4,
  "nbformat_minor": 0,
  "metadata": {
    "colab": {
      "name": "Copy of TP3.ipynb",
      "provenance": [],
      "include_colab_link": true
    },
    "kernelspec": {
      "name": "python3",
      "display_name": "Python 3"
    },
    "language_info": {
      "name": "python"
    }
  },
  "cells": [
    {
      "cell_type": "markdown",
      "metadata": {
        "id": "view-in-github",
        "colab_type": "text"
      },
      "source": [
        "<a href=\"https://colab.research.google.com/github/Souha-BH/DataMining_GL4/blob/main/TP3.ipynb\" target=\"_parent\"><img src=\"https://colab.research.google.com/assets/colab-badge.svg\" alt=\"Open In Colab\"/></a>"
      ]
    },
    {
      "cell_type": "markdown",
      "source": [
        "### Loading Data"
      ],
      "metadata": {
        "id": "xwbvz4pQx3OR"
      }
    },
    {
      "cell_type": "code",
      "source": [
        "from sklearn import datasets\n",
        "from collections import Counter\n",
        "irisData = datasets.load_iris()\n",
        "print (irisData.data)\n",
        "print (irisData.target)"
      ],
      "metadata": {
        "id": "MyJFkzzAEaNe",
        "colab": {
          "base_uri": "https://localhost:8080/"
        },
        "outputId": "6e1e0331-cb05-4ac5-b6c0-326ede02aa0e"
      },
      "execution_count": 3,
      "outputs": [
        {
          "output_type": "stream",
          "name": "stdout",
          "text": [
            "[[5.1 3.5 1.4 0.2]\n",
            " [4.9 3.  1.4 0.2]\n",
            " [4.7 3.2 1.3 0.2]\n",
            " [4.6 3.1 1.5 0.2]\n",
            " [5.  3.6 1.4 0.2]\n",
            " [5.4 3.9 1.7 0.4]\n",
            " [4.6 3.4 1.4 0.3]\n",
            " [5.  3.4 1.5 0.2]\n",
            " [4.4 2.9 1.4 0.2]\n",
            " [4.9 3.1 1.5 0.1]\n",
            " [5.4 3.7 1.5 0.2]\n",
            " [4.8 3.4 1.6 0.2]\n",
            " [4.8 3.  1.4 0.1]\n",
            " [4.3 3.  1.1 0.1]\n",
            " [5.8 4.  1.2 0.2]\n",
            " [5.7 4.4 1.5 0.4]\n",
            " [5.4 3.9 1.3 0.4]\n",
            " [5.1 3.5 1.4 0.3]\n",
            " [5.7 3.8 1.7 0.3]\n",
            " [5.1 3.8 1.5 0.3]\n",
            " [5.4 3.4 1.7 0.2]\n",
            " [5.1 3.7 1.5 0.4]\n",
            " [4.6 3.6 1.  0.2]\n",
            " [5.1 3.3 1.7 0.5]\n",
            " [4.8 3.4 1.9 0.2]\n",
            " [5.  3.  1.6 0.2]\n",
            " [5.  3.4 1.6 0.4]\n",
            " [5.2 3.5 1.5 0.2]\n",
            " [5.2 3.4 1.4 0.2]\n",
            " [4.7 3.2 1.6 0.2]\n",
            " [4.8 3.1 1.6 0.2]\n",
            " [5.4 3.4 1.5 0.4]\n",
            " [5.2 4.1 1.5 0.1]\n",
            " [5.5 4.2 1.4 0.2]\n",
            " [4.9 3.1 1.5 0.2]\n",
            " [5.  3.2 1.2 0.2]\n",
            " [5.5 3.5 1.3 0.2]\n",
            " [4.9 3.6 1.4 0.1]\n",
            " [4.4 3.  1.3 0.2]\n",
            " [5.1 3.4 1.5 0.2]\n",
            " [5.  3.5 1.3 0.3]\n",
            " [4.5 2.3 1.3 0.3]\n",
            " [4.4 3.2 1.3 0.2]\n",
            " [5.  3.5 1.6 0.6]\n",
            " [5.1 3.8 1.9 0.4]\n",
            " [4.8 3.  1.4 0.3]\n",
            " [5.1 3.8 1.6 0.2]\n",
            " [4.6 3.2 1.4 0.2]\n",
            " [5.3 3.7 1.5 0.2]\n",
            " [5.  3.3 1.4 0.2]\n",
            " [7.  3.2 4.7 1.4]\n",
            " [6.4 3.2 4.5 1.5]\n",
            " [6.9 3.1 4.9 1.5]\n",
            " [5.5 2.3 4.  1.3]\n",
            " [6.5 2.8 4.6 1.5]\n",
            " [5.7 2.8 4.5 1.3]\n",
            " [6.3 3.3 4.7 1.6]\n",
            " [4.9 2.4 3.3 1. ]\n",
            " [6.6 2.9 4.6 1.3]\n",
            " [5.2 2.7 3.9 1.4]\n",
            " [5.  2.  3.5 1. ]\n",
            " [5.9 3.  4.2 1.5]\n",
            " [6.  2.2 4.  1. ]\n",
            " [6.1 2.9 4.7 1.4]\n",
            " [5.6 2.9 3.6 1.3]\n",
            " [6.7 3.1 4.4 1.4]\n",
            " [5.6 3.  4.5 1.5]\n",
            " [5.8 2.7 4.1 1. ]\n",
            " [6.2 2.2 4.5 1.5]\n",
            " [5.6 2.5 3.9 1.1]\n",
            " [5.9 3.2 4.8 1.8]\n",
            " [6.1 2.8 4.  1.3]\n",
            " [6.3 2.5 4.9 1.5]\n",
            " [6.1 2.8 4.7 1.2]\n",
            " [6.4 2.9 4.3 1.3]\n",
            " [6.6 3.  4.4 1.4]\n",
            " [6.8 2.8 4.8 1.4]\n",
            " [6.7 3.  5.  1.7]\n",
            " [6.  2.9 4.5 1.5]\n",
            " [5.7 2.6 3.5 1. ]\n",
            " [5.5 2.4 3.8 1.1]\n",
            " [5.5 2.4 3.7 1. ]\n",
            " [5.8 2.7 3.9 1.2]\n",
            " [6.  2.7 5.1 1.6]\n",
            " [5.4 3.  4.5 1.5]\n",
            " [6.  3.4 4.5 1.6]\n",
            " [6.7 3.1 4.7 1.5]\n",
            " [6.3 2.3 4.4 1.3]\n",
            " [5.6 3.  4.1 1.3]\n",
            " [5.5 2.5 4.  1.3]\n",
            " [5.5 2.6 4.4 1.2]\n",
            " [6.1 3.  4.6 1.4]\n",
            " [5.8 2.6 4.  1.2]\n",
            " [5.  2.3 3.3 1. ]\n",
            " [5.6 2.7 4.2 1.3]\n",
            " [5.7 3.  4.2 1.2]\n",
            " [5.7 2.9 4.2 1.3]\n",
            " [6.2 2.9 4.3 1.3]\n",
            " [5.1 2.5 3.  1.1]\n",
            " [5.7 2.8 4.1 1.3]\n",
            " [6.3 3.3 6.  2.5]\n",
            " [5.8 2.7 5.1 1.9]\n",
            " [7.1 3.  5.9 2.1]\n",
            " [6.3 2.9 5.6 1.8]\n",
            " [6.5 3.  5.8 2.2]\n",
            " [7.6 3.  6.6 2.1]\n",
            " [4.9 2.5 4.5 1.7]\n",
            " [7.3 2.9 6.3 1.8]\n",
            " [6.7 2.5 5.8 1.8]\n",
            " [7.2 3.6 6.1 2.5]\n",
            " [6.5 3.2 5.1 2. ]\n",
            " [6.4 2.7 5.3 1.9]\n",
            " [6.8 3.  5.5 2.1]\n",
            " [5.7 2.5 5.  2. ]\n",
            " [5.8 2.8 5.1 2.4]\n",
            " [6.4 3.2 5.3 2.3]\n",
            " [6.5 3.  5.5 1.8]\n",
            " [7.7 3.8 6.7 2.2]\n",
            " [7.7 2.6 6.9 2.3]\n",
            " [6.  2.2 5.  1.5]\n",
            " [6.9 3.2 5.7 2.3]\n",
            " [5.6 2.8 4.9 2. ]\n",
            " [7.7 2.8 6.7 2. ]\n",
            " [6.3 2.7 4.9 1.8]\n",
            " [6.7 3.3 5.7 2.1]\n",
            " [7.2 3.2 6.  1.8]\n",
            " [6.2 2.8 4.8 1.8]\n",
            " [6.1 3.  4.9 1.8]\n",
            " [6.4 2.8 5.6 2.1]\n",
            " [7.2 3.  5.8 1.6]\n",
            " [7.4 2.8 6.1 1.9]\n",
            " [7.9 3.8 6.4 2. ]\n",
            " [6.4 2.8 5.6 2.2]\n",
            " [6.3 2.8 5.1 1.5]\n",
            " [6.1 2.6 5.6 1.4]\n",
            " [7.7 3.  6.1 2.3]\n",
            " [6.3 3.4 5.6 2.4]\n",
            " [6.4 3.1 5.5 1.8]\n",
            " [6.  3.  4.8 1.8]\n",
            " [6.9 3.1 5.4 2.1]\n",
            " [6.7 3.1 5.6 2.4]\n",
            " [6.9 3.1 5.1 2.3]\n",
            " [5.8 2.7 5.1 1.9]\n",
            " [6.8 3.2 5.9 2.3]\n",
            " [6.7 3.3 5.7 2.5]\n",
            " [6.7 3.  5.2 2.3]\n",
            " [6.3 2.5 5.  1.9]\n",
            " [6.5 3.  5.2 2. ]\n",
            " [6.2 3.4 5.4 2.3]\n",
            " [5.9 3.  5.1 1.8]]\n",
            "[0 0 0 0 0 0 0 0 0 0 0 0 0 0 0 0 0 0 0 0 0 0 0 0 0 0 0 0 0 0 0 0 0 0 0 0 0\n",
            " 0 0 0 0 0 0 0 0 0 0 0 0 0 1 1 1 1 1 1 1 1 1 1 1 1 1 1 1 1 1 1 1 1 1 1 1 1\n",
            " 1 1 1 1 1 1 1 1 1 1 1 1 1 1 1 1 1 1 1 1 1 1 1 1 1 1 2 2 2 2 2 2 2 2 2 2 2\n",
            " 2 2 2 2 2 2 2 2 2 2 2 2 2 2 2 2 2 2 2 2 2 2 2 2 2 2 2 2 2 2 2 2 2 2 2 2 2\n",
            " 2 2]\n"
          ]
        }
      ]
    },
    {
      "cell_type": "markdown",
      "source": [
        "###comment sont réparties les données dans les tableaux"
      ],
      "metadata": {
        "id": "ec3iFJe0zU8b"
      }
    },
    {
      "cell_type": "code",
      "source": [
        "print(irisData.data[:-1].shape)\n",
        "print(irisData.feature_names)\n",
        "print(irisData.target_names)\n",
        "print(Counter(irisData))"
      ],
      "metadata": {
        "colab": {
          "base_uri": "https://localhost:8080/"
        },
        "id": "b_iiEFD6y8SS",
        "outputId": "ea7779c7-048f-46f2-b409-a636c48e15f7"
      },
      "execution_count": 4,
      "outputs": [
        {
          "output_type": "stream",
          "name": "stdout",
          "text": [
            "(149, 4)\n",
            "['sepal length (cm)', 'sepal width (cm)', 'petal length (cm)', 'petal width (cm)']\n",
            "['setosa' 'versicolor' 'virginica']\n",
            "Counter({'data': array([[5.1, 3.5, 1.4, 0.2],\n",
            "       [4.9, 3. , 1.4, 0.2],\n",
            "       [4.7, 3.2, 1.3, 0.2],\n",
            "       [4.6, 3.1, 1.5, 0.2],\n",
            "       [5. , 3.6, 1.4, 0.2],\n",
            "       [5.4, 3.9, 1.7, 0.4],\n",
            "       [4.6, 3.4, 1.4, 0.3],\n",
            "       [5. , 3.4, 1.5, 0.2],\n",
            "       [4.4, 2.9, 1.4, 0.2],\n",
            "       [4.9, 3.1, 1.5, 0.1],\n",
            "       [5.4, 3.7, 1.5, 0.2],\n",
            "       [4.8, 3.4, 1.6, 0.2],\n",
            "       [4.8, 3. , 1.4, 0.1],\n",
            "       [4.3, 3. , 1.1, 0.1],\n",
            "       [5.8, 4. , 1.2, 0.2],\n",
            "       [5.7, 4.4, 1.5, 0.4],\n",
            "       [5.4, 3.9, 1.3, 0.4],\n",
            "       [5.1, 3.5, 1.4, 0.3],\n",
            "       [5.7, 3.8, 1.7, 0.3],\n",
            "       [5.1, 3.8, 1.5, 0.3],\n",
            "       [5.4, 3.4, 1.7, 0.2],\n",
            "       [5.1, 3.7, 1.5, 0.4],\n",
            "       [4.6, 3.6, 1. , 0.2],\n",
            "       [5.1, 3.3, 1.7, 0.5],\n",
            "       [4.8, 3.4, 1.9, 0.2],\n",
            "       [5. , 3. , 1.6, 0.2],\n",
            "       [5. , 3.4, 1.6, 0.4],\n",
            "       [5.2, 3.5, 1.5, 0.2],\n",
            "       [5.2, 3.4, 1.4, 0.2],\n",
            "       [4.7, 3.2, 1.6, 0.2],\n",
            "       [4.8, 3.1, 1.6, 0.2],\n",
            "       [5.4, 3.4, 1.5, 0.4],\n",
            "       [5.2, 4.1, 1.5, 0.1],\n",
            "       [5.5, 4.2, 1.4, 0.2],\n",
            "       [4.9, 3.1, 1.5, 0.2],\n",
            "       [5. , 3.2, 1.2, 0.2],\n",
            "       [5.5, 3.5, 1.3, 0.2],\n",
            "       [4.9, 3.6, 1.4, 0.1],\n",
            "       [4.4, 3. , 1.3, 0.2],\n",
            "       [5.1, 3.4, 1.5, 0.2],\n",
            "       [5. , 3.5, 1.3, 0.3],\n",
            "       [4.5, 2.3, 1.3, 0.3],\n",
            "       [4.4, 3.2, 1.3, 0.2],\n",
            "       [5. , 3.5, 1.6, 0.6],\n",
            "       [5.1, 3.8, 1.9, 0.4],\n",
            "       [4.8, 3. , 1.4, 0.3],\n",
            "       [5.1, 3.8, 1.6, 0.2],\n",
            "       [4.6, 3.2, 1.4, 0.2],\n",
            "       [5.3, 3.7, 1.5, 0.2],\n",
            "       [5. , 3.3, 1.4, 0.2],\n",
            "       [7. , 3.2, 4.7, 1.4],\n",
            "       [6.4, 3.2, 4.5, 1.5],\n",
            "       [6.9, 3.1, 4.9, 1.5],\n",
            "       [5.5, 2.3, 4. , 1.3],\n",
            "       [6.5, 2.8, 4.6, 1.5],\n",
            "       [5.7, 2.8, 4.5, 1.3],\n",
            "       [6.3, 3.3, 4.7, 1.6],\n",
            "       [4.9, 2.4, 3.3, 1. ],\n",
            "       [6.6, 2.9, 4.6, 1.3],\n",
            "       [5.2, 2.7, 3.9, 1.4],\n",
            "       [5. , 2. , 3.5, 1. ],\n",
            "       [5.9, 3. , 4.2, 1.5],\n",
            "       [6. , 2.2, 4. , 1. ],\n",
            "       [6.1, 2.9, 4.7, 1.4],\n",
            "       [5.6, 2.9, 3.6, 1.3],\n",
            "       [6.7, 3.1, 4.4, 1.4],\n",
            "       [5.6, 3. , 4.5, 1.5],\n",
            "       [5.8, 2.7, 4.1, 1. ],\n",
            "       [6.2, 2.2, 4.5, 1.5],\n",
            "       [5.6, 2.5, 3.9, 1.1],\n",
            "       [5.9, 3.2, 4.8, 1.8],\n",
            "       [6.1, 2.8, 4. , 1.3],\n",
            "       [6.3, 2.5, 4.9, 1.5],\n",
            "       [6.1, 2.8, 4.7, 1.2],\n",
            "       [6.4, 2.9, 4.3, 1.3],\n",
            "       [6.6, 3. , 4.4, 1.4],\n",
            "       [6.8, 2.8, 4.8, 1.4],\n",
            "       [6.7, 3. , 5. , 1.7],\n",
            "       [6. , 2.9, 4.5, 1.5],\n",
            "       [5.7, 2.6, 3.5, 1. ],\n",
            "       [5.5, 2.4, 3.8, 1.1],\n",
            "       [5.5, 2.4, 3.7, 1. ],\n",
            "       [5.8, 2.7, 3.9, 1.2],\n",
            "       [6. , 2.7, 5.1, 1.6],\n",
            "       [5.4, 3. , 4.5, 1.5],\n",
            "       [6. , 3.4, 4.5, 1.6],\n",
            "       [6.7, 3.1, 4.7, 1.5],\n",
            "       [6.3, 2.3, 4.4, 1.3],\n",
            "       [5.6, 3. , 4.1, 1.3],\n",
            "       [5.5, 2.5, 4. , 1.3],\n",
            "       [5.5, 2.6, 4.4, 1.2],\n",
            "       [6.1, 3. , 4.6, 1.4],\n",
            "       [5.8, 2.6, 4. , 1.2],\n",
            "       [5. , 2.3, 3.3, 1. ],\n",
            "       [5.6, 2.7, 4.2, 1.3],\n",
            "       [5.7, 3. , 4.2, 1.2],\n",
            "       [5.7, 2.9, 4.2, 1.3],\n",
            "       [6.2, 2.9, 4.3, 1.3],\n",
            "       [5.1, 2.5, 3. , 1.1],\n",
            "       [5.7, 2.8, 4.1, 1.3],\n",
            "       [6.3, 3.3, 6. , 2.5],\n",
            "       [5.8, 2.7, 5.1, 1.9],\n",
            "       [7.1, 3. , 5.9, 2.1],\n",
            "       [6.3, 2.9, 5.6, 1.8],\n",
            "       [6.5, 3. , 5.8, 2.2],\n",
            "       [7.6, 3. , 6.6, 2.1],\n",
            "       [4.9, 2.5, 4.5, 1.7],\n",
            "       [7.3, 2.9, 6.3, 1.8],\n",
            "       [6.7, 2.5, 5.8, 1.8],\n",
            "       [7.2, 3.6, 6.1, 2.5],\n",
            "       [6.5, 3.2, 5.1, 2. ],\n",
            "       [6.4, 2.7, 5.3, 1.9],\n",
            "       [6.8, 3. , 5.5, 2.1],\n",
            "       [5.7, 2.5, 5. , 2. ],\n",
            "       [5.8, 2.8, 5.1, 2.4],\n",
            "       [6.4, 3.2, 5.3, 2.3],\n",
            "       [6.5, 3. , 5.5, 1.8],\n",
            "       [7.7, 3.8, 6.7, 2.2],\n",
            "       [7.7, 2.6, 6.9, 2.3],\n",
            "       [6. , 2.2, 5. , 1.5],\n",
            "       [6.9, 3.2, 5.7, 2.3],\n",
            "       [5.6, 2.8, 4.9, 2. ],\n",
            "       [7.7, 2.8, 6.7, 2. ],\n",
            "       [6.3, 2.7, 4.9, 1.8],\n",
            "       [6.7, 3.3, 5.7, 2.1],\n",
            "       [7.2, 3.2, 6. , 1.8],\n",
            "       [6.2, 2.8, 4.8, 1.8],\n",
            "       [6.1, 3. , 4.9, 1.8],\n",
            "       [6.4, 2.8, 5.6, 2.1],\n",
            "       [7.2, 3. , 5.8, 1.6],\n",
            "       [7.4, 2.8, 6.1, 1.9],\n",
            "       [7.9, 3.8, 6.4, 2. ],\n",
            "       [6.4, 2.8, 5.6, 2.2],\n",
            "       [6.3, 2.8, 5.1, 1.5],\n",
            "       [6.1, 2.6, 5.6, 1.4],\n",
            "       [7.7, 3. , 6.1, 2.3],\n",
            "       [6.3, 3.4, 5.6, 2.4],\n",
            "       [6.4, 3.1, 5.5, 1.8],\n",
            "       [6. , 3. , 4.8, 1.8],\n",
            "       [6.9, 3.1, 5.4, 2.1],\n",
            "       [6.7, 3.1, 5.6, 2.4],\n",
            "       [6.9, 3.1, 5.1, 2.3],\n",
            "       [5.8, 2.7, 5.1, 1.9],\n",
            "       [6.8, 3.2, 5.9, 2.3],\n",
            "       [6.7, 3.3, 5.7, 2.5],\n",
            "       [6.7, 3. , 5.2, 2.3],\n",
            "       [6.3, 2.5, 5. , 1.9],\n",
            "       [6.5, 3. , 5.2, 2. ],\n",
            "       [6.2, 3.4, 5.4, 2.3],\n",
            "       [5.9, 3. , 5.1, 1.8]]), 'target': array([0, 0, 0, 0, 0, 0, 0, 0, 0, 0, 0, 0, 0, 0, 0, 0, 0, 0, 0, 0, 0, 0,\n",
            "       0, 0, 0, 0, 0, 0, 0, 0, 0, 0, 0, 0, 0, 0, 0, 0, 0, 0, 0, 0, 0, 0,\n",
            "       0, 0, 0, 0, 0, 0, 1, 1, 1, 1, 1, 1, 1, 1, 1, 1, 1, 1, 1, 1, 1, 1,\n",
            "       1, 1, 1, 1, 1, 1, 1, 1, 1, 1, 1, 1, 1, 1, 1, 1, 1, 1, 1, 1, 1, 1,\n",
            "       1, 1, 1, 1, 1, 1, 1, 1, 1, 1, 1, 1, 2, 2, 2, 2, 2, 2, 2, 2, 2, 2,\n",
            "       2, 2, 2, 2, 2, 2, 2, 2, 2, 2, 2, 2, 2, 2, 2, 2, 2, 2, 2, 2, 2, 2,\n",
            "       2, 2, 2, 2, 2, 2, 2, 2, 2, 2, 2, 2, 2, 2, 2, 2, 2, 2]), 'frame': None, 'target_names': array(['setosa', 'versicolor', 'virginica'], dtype='<U10'), 'DESCR': '.. _iris_dataset:\\n\\nIris plants dataset\\n--------------------\\n\\n**Data Set Characteristics:**\\n\\n    :Number of Instances: 150 (50 in each of three classes)\\n    :Number of Attributes: 4 numeric, predictive attributes and the class\\n    :Attribute Information:\\n        - sepal length in cm\\n        - sepal width in cm\\n        - petal length in cm\\n        - petal width in cm\\n        - class:\\n                - Iris-Setosa\\n                - Iris-Versicolour\\n                - Iris-Virginica\\n                \\n    :Summary Statistics:\\n\\n    ============== ==== ==== ======= ===== ====================\\n                    Min  Max   Mean    SD   Class Correlation\\n    ============== ==== ==== ======= ===== ====================\\n    sepal length:   4.3  7.9   5.84   0.83    0.7826\\n    sepal width:    2.0  4.4   3.05   0.43   -0.4194\\n    petal length:   1.0  6.9   3.76   1.76    0.9490  (high!)\\n    petal width:    0.1  2.5   1.20   0.76    0.9565  (high!)\\n    ============== ==== ==== ======= ===== ====================\\n\\n    :Missing Attribute Values: None\\n    :Class Distribution: 33.3% for each of 3 classes.\\n    :Creator: R.A. Fisher\\n    :Donor: Michael Marshall (MARSHALL%PLU@io.arc.nasa.gov)\\n    :Date: July, 1988\\n\\nThe famous Iris database, first used by Sir R.A. Fisher. The dataset is taken\\nfrom Fisher\\'s paper. Note that it\\'s the same as in R, but not as in the UCI\\nMachine Learning Repository, which has two wrong data points.\\n\\nThis is perhaps the best known database to be found in the\\npattern recognition literature.  Fisher\\'s paper is a classic in the field and\\nis referenced frequently to this day.  (See Duda & Hart, for example.)  The\\ndata set contains 3 classes of 50 instances each, where each class refers to a\\ntype of iris plant.  One class is linearly separable from the other 2; the\\nlatter are NOT linearly separable from each other.\\n\\n.. topic:: References\\n\\n   - Fisher, R.A. \"The use of multiple measurements in taxonomic problems\"\\n     Annual Eugenics, 7, Part II, 179-188 (1936); also in \"Contributions to\\n     Mathematical Statistics\" (John Wiley, NY, 1950).\\n   - Duda, R.O., & Hart, P.E. (1973) Pattern Classification and Scene Analysis.\\n     (Q327.D83) John Wiley & Sons.  ISBN 0-471-22361-1.  See page 218.\\n   - Dasarathy, B.V. (1980) \"Nosing Around the Neighborhood: A New System\\n     Structure and Classification Rule for Recognition in Partially Exposed\\n     Environments\".  IEEE Transactions on Pattern Analysis and Machine\\n     Intelligence, Vol. PAMI-2, No. 1, 67-71.\\n   - Gates, G.W. (1972) \"The Reduced Nearest Neighbor Rule\".  IEEE Transactions\\n     on Information Theory, May 1972, 431-433.\\n   - See also: 1988 MLC Proceedings, 54-64.  Cheeseman et al\"s AUTOCLASS II\\n     conceptual clustering system finds 3 classes in the data.\\n   - Many, many more ...', 'feature_names': ['sepal length (cm)', 'sepal width (cm)', 'petal length (cm)', 'petal width (cm)'], 'filename': 'iris.csv', 'data_module': 'sklearn.datasets.data'})\n"
          ]
        }
      ]
    },
    {
      "cell_type": "markdown",
      "source": [
        "### Combien y a-t-il de données dans chaque classe ?"
      ],
      "metadata": {
        "id": "3YrZ7LgyzgiD"
      }
    },
    {
      "cell_type": "code",
      "source": [
        "for i in range(3):\n",
        "  print(\"le nombre d'instances dans la classe \" +str(i)+\" est : \" )\n",
        "  print( len(irisData.target[irisData.target==i]))"
      ],
      "metadata": {
        "colab": {
          "base_uri": "https://localhost:8080/"
        },
        "id": "MWNFQQQlze0z",
        "outputId": "a86240a9-4670-4b11-a601-a0f51d65c5f5"
      },
      "execution_count": 5,
      "outputs": [
        {
          "output_type": "stream",
          "name": "stdout",
          "text": [
            "le nombre d'instances dans la classe 0 est : \n",
            "50\n",
            "le nombre d'instances dans la classe 1 est : \n",
            "50\n",
            "le nombre d'instances dans la classe 2 est : \n",
            "50\n"
          ]
        }
      ]
    },
    {
      "cell_type": "markdown",
      "source": [
        "### Quels sont les attributs et la classe du 32ème élément de l'échantillon ?"
      ],
      "metadata": {
        "id": "XsF2JjUdzohR"
      }
    },
    {
      "cell_type": "code",
      "source": [
        "print(\"Pour l'instance 32: \")\n",
        "print(irisData.target[31])\n",
        "print(irisData.data[31])"
      ],
      "metadata": {
        "colab": {
          "base_uri": "https://localhost:8080/"
        },
        "id": "QzatJWC_zrZf",
        "outputId": "8295d303-e765-4b92-9900-741fb7a80ca7"
      },
      "execution_count": 6,
      "outputs": [
        {
          "output_type": "stream",
          "name": "stdout",
          "text": [
            "Pour l'instance 32: \n",
            "0\n",
            "[5.4 3.4 1.5 0.4]\n"
          ]
        }
      ]
    },
    {
      "cell_type": "markdown",
      "source": [
        "### Recherche d'une droite permettant de séparer les examples d'une classe des exemples des deux autres classes"
      ],
      "metadata": {
        "id": "soz8d9OhxoZM"
      }
    },
    {
      "cell_type": "code",
      "source": [
        "import matplotlib\n",
        "import pylab as pl\n",
        "from itertools import cycle\n",
        "\n",
        "def plot_2D(data, target, target_names):\n",
        "  colors = cycle('rgbcmykw') # cycle de couleurs\n",
        "  target_ids = range(len(target_names))\n",
        "  print(irisData.feature_names)\n",
        "  pl.figure()\n",
        "  for i, c, label in zip(target_ids, colors, target_names):\n",
        "    pl.scatter(data[target == i,2], data[target == i,3], c=c, label=label)\n",
        "  pl.plot([2.5,2.5],[0,2.5], c='r')\n",
        "  pl.legend()\n",
        "  pl.show()\n",
        "plot_2D(irisData.data,irisData.target,irisData.target_names)  "
      ],
      "metadata": {
        "id": "_-wNqzpuw7cc",
        "colab": {
          "base_uri": "https://localhost:8080/",
          "height": 282
        },
        "outputId": "d281495d-f39e-4c55-dfc3-da2b17a223c7"
      },
      "execution_count": 7,
      "outputs": [
        {
          "output_type": "stream",
          "name": "stdout",
          "text": [
            "['sepal length (cm)', 'sepal width (cm)', 'petal length (cm)', 'petal width (cm)']\n"
          ]
        },
        {
          "output_type": "display_data",
          "data": {
            "text/plain": [
              "<Figure size 432x288 with 1 Axes>"
            ],
            "image/png": "[encoded data removed]"
          },
          "metadata": {
            "needs_background": "light"
          }
        }
      ]
    },
    {
      "cell_type": "markdown",
      "source": [
        "### Un premier apprentissage de classifieur\n",
        "### Naive Bayes\n",
        "La précision du classifieur est 96% sur les données d'apprentissage (train dataset) sauf la dernière instance. Ce score peut être biaisé car il ne reflète pas des prédictions sur des nouvelles instances.\n"
      ],
      "metadata": {
        "id": "oxdjoKkL0ip-"
      }
    },
    {
      "cell_type": "code",
      "source": [
        "from sklearn import naive_bayes\n",
        "\n",
        "# Initialiser le classifieur\n",
        "nb = naive_bayes.MultinomialNB(fit_prior=True)\n",
        "# Lancer la phase d'apprentissage\n",
        "nb.fit(irisData.data[:], irisData.target[:])\n",
        "# Lancer la prédiction\n",
        "p31 = nb.predict([irisData.data[31]])\n",
        "print(irisData.target[31], p31)\n",
        "plast = nb.predict([irisData.data[-1]])\n",
        "print(plast)\n",
        "predicted_results = nb.predict(irisData.data[:])\n",
        "print(\"Prediction results\", predicted_results)\n",
        "print(\"Actual results\", irisData.target)\n"
      ],
      "metadata": {
        "colab": {
          "base_uri": "https://localhost:8080/"
        },
        "id": "c3SOCMvi7p6m",
        "outputId": "41109d5e-d9ab-412b-d327-4ca413bdaad1"
      },
      "execution_count": 8,
      "outputs": [
        {
          "output_type": "stream",
          "name": "stdout",
          "text": [
            "0 [0]\n",
            "[2]\n",
            "Prediction results [0 0 0 0 0 0 0 0 0 0 0 0 0 0 0 0 0 0 0 0 0 0 0 0 0 0 0 0 0 0 0 0 0 0 0 0 0\n",
            " 0 0 0 0 0 0 0 0 0 0 0 0 0 1 1 1 1 1 1 1 1 1 1 1 1 1 1 1 1 1 1 2 1 2 1 2 1\n",
            " 1 1 1 1 1 1 1 1 1 2 1 1 1 1 1 1 1 1 1 1 1 1 1 1 1 1 2 2 2 2 2 2 2 2 2 2 2\n",
            " 2 2 2 2 2 2 2 2 2 2 2 2 2 2 2 2 2 2 1 2 1 2 1 2 2 2 2 2 2 2 2 2 2 2 2 2 2\n",
            " 2 2]\n",
            "Actual results [0 0 0 0 0 0 0 0 0 0 0 0 0 0 0 0 0 0 0 0 0 0 0 0 0 0 0 0 0 0 0 0 0 0 0 0 0\n",
            " 0 0 0 0 0 0 0 0 0 0 0 0 0 1 1 1 1 1 1 1 1 1 1 1 1 1 1 1 1 1 1 1 1 1 1 1 1\n",
            " 1 1 1 1 1 1 1 1 1 1 1 1 1 1 1 1 1 1 1 1 1 1 1 1 1 1 2 2 2 2 2 2 2 2 2 2 2\n",
            " 2 2 2 2 2 2 2 2 2 2 2 2 2 2 2 2 2 2 2 2 2 2 2 2 2 2 2 2 2 2 2 2 2 2 2 2 2\n",
            " 2 2]\n"
          ]
        }
      ]
    },
    {
      "cell_type": "markdown",
      "source": [
        "### Deuxième programme\n",
        "Cet algorithme divise des données en deux: les données d'apprentissage et les données de test."
      ],
      "metadata": {
        "id": "KVBejBpL5cD8"
      }
    },
    {
      "cell_type": "code",
      "source": [
        "from sklearn import naive_bayes\n",
        "\n",
        "nb = naive_bayes.MultinomialNB(fit_prior=True)\n",
        "\n",
        "nb.fit(irisData.data[:99], irisData.target[:99])\n",
        "# Prédire sur les données restantes\n",
        "prediction_result = nb.predict(irisData.data[100:149])\n",
        "\n",
        "print(\"Prediction results\", prediction_result)\n",
        "print(\"Actual results\", irisData.target[100:149])"
      ],
      "metadata": {
        "colab": {
          "base_uri": "https://localhost:8080/"
        },
        "id": "VB30FOGY-gRE",
        "outputId": "460a7cf0-0f83-4e4c-f74d-721b6abcdddb"
      },
      "execution_count": 9,
      "outputs": [
        {
          "output_type": "stream",
          "name": "stdout",
          "text": [
            "Prediction results [1 1 1 1 1 1 1 1 1 1 1 1 1 1 1 1 1 1 1 1 1 1 1 1 1 1 1 1 1 1 1 1 1 1 1 1 1\n",
            " 1 1 1 1 1 1 1 1 1 1 1 1]\n",
            "Actual results [2 2 2 2 2 2 2 2 2 2 2 2 2 2 2 2 2 2 2 2 2 2 2 2 2 2 2 2 2 2 2 2 2 2 2 2 2\n",
            " 2 2 2 2 2 2 2 2 2 2 2 2]\n"
          ]
        }
      ]
    },
    {
      "cell_type": "markdown",
      "source": [
        "Les résultats sont incohérents. Le problème c'est que notre dataset n'est pas équilibré aprés la division. En effet le modèle n'a jamais vu le 3éme type 'Iris-Virginica'. Pour remédier à ce problème, il faut mélanger le dataset avant la division (Train & Test)."
      ],
      "metadata": {
        "id": "giFDRXfX6Fjl"
      }
    },
    {
      "cell_type": "code",
      "source": [
        "from sklearn import naive_bayes\n",
        "from random import shuffle\n",
        "\n",
        "nb = naive_bayes.MultinomialNB(fit_prior=True)\n",
        "data = list(zip(irisData.data, irisData.target))\n",
        "\n",
        "shuffle(data)\n",
        "X, y = list(zip(*data))\n",
        "\n",
        "nb.fit(X[:99], y[:99])\n",
        "\n",
        "# Prédire sur les données restantes\n",
        "prediction_result = nb.predict(X[100:149])\n",
        "\n",
        "print(\"Prediction \", list(prediction_result))\n",
        "print(\"Actual     \", list(y[100:149]))"
      ],
      "metadata": {
        "colab": {
          "base_uri": "https://localhost:8080/"
        },
        "id": "gPsAayJS6RfD",
        "outputId": "0362d7a7-3a14-48c9-8e80-f27a641c79c7"
      },
      "execution_count": 10,
      "outputs": [
        {
          "output_type": "stream",
          "name": "stdout",
          "text": [
            "Prediction  [1, 0, 0, 0, 1, 2, 1, 0, 2, 0, 0, 1, 1, 0, 0, 2, 0, 0, 2, 2, 2, 2, 1, 0, 1, 1, 1, 1, 0, 1, 2, 2, 0, 0, 2, 2, 2, 2, 1, 2, 2, 2, 1, 0, 0, 2, 2, 1, 1]\n",
            "Actual      [1, 0, 0, 0, 1, 2, 1, 0, 2, 0, 0, 1, 1, 0, 0, 1, 0, 0, 2, 2, 2, 2, 1, 0, 1, 1, 1, 1, 0, 1, 2, 2, 0, 0, 2, 2, 2, 2, 1, 2, 2, 2, 1, 0, 0, 2, 2, 1, 1]\n"
          ]
        }
      ]
    },
    {
      "cell_type": "markdown",
      "source": [
        "### Evaluer les performances d'un classiffieur\n",
        "### 1. Performances sur l'ensemble d'apprentissage"
      ],
      "metadata": {
        "id": "MPlM_ogQ6VyZ"
      }
    },
    {
      "cell_type": "code",
      "source": [
        "import numpy as np\n",
        "# Calculer l'erreur en faisant la somme des inégalités\n",
        "nb.fit(irisData.data[:], irisData.target[:])\n",
        "P = nb.predict(irisData.data[:])\n",
        "Y = irisData.target\n",
        "ea = 0\n",
        "for i in range(len(irisData.data)):\n",
        "  if (P[i] != Y[i]):\n",
        "    ea = ea+1\n",
        "print(\"Error using sum function :\",ea/len(irisData.data))\n",
        "#Les opérateurs sur les tableaux permet d'effectuer ce comptage en une seule instruction. \n",
        "#Les valeurs non nulles représente les erreurs commises par le modéle. Donc on peut utiliser la fonction count_nonzero() du package numpy.\n",
        "print(\"Error using numpy :\",np.count_nonzero(P-Y)/len(irisData.data))\n",
        "#On peut aussi calculer le taux de bonne classification du modèle et le taux d'erreur en utilisant la méthode .score()\n",
        "print(\"Accuracy : \",nb.score(irisData.data,Y))"
      ],
      "metadata": {
        "colab": {
          "base_uri": "https://localhost:8080/"
        },
        "id": "poshkP9OAooK",
        "outputId": "53dfa8f4-78e0-4f9b-a8c3-9bf8bc7f826a"
      },
      "execution_count": 11,
      "outputs": [
        {
          "output_type": "stream",
          "name": "stdout",
          "text": [
            "Error using sum function : 0.04666666666666667\n",
            "Error using numpy : 0.04666666666666667\n",
            "Accuracy :  0.9533333333333334\n"
          ]
        }
      ]
    },
    {
      "cell_type": "markdown",
      "source": [
        "### 2. Performances en généralisation\n",
        "\n",
        "2.1.   Estimer l'erreur réelle par division de l'échantillon d'apprentissage\n"
      ],
      "metadata": {
        "id": "PPYRUI3r8GdL"
      }
    },
    {
      "cell_type": "code",
      "source": [
        "from random import sample\n",
        "S = list(zip(irisData.data, irisData.target))\n",
        "def split(S):\n",
        "  s2_size = len(S)*0.33\n",
        "  s2_indexes = sample(range(len(S)),k=round(s2_size))\n",
        "\n",
        "  dataS1 = []\n",
        "  targetS1 = []\n",
        "  dataS2 = []\n",
        "  targetS2 = []\n",
        "  for i in range(len(S)):\n",
        "    if i in s2_indexes:\n",
        "      dataS2.append(S[i][0])\n",
        "      targetS2.append(S[i][1])\n",
        "    else:\n",
        "      dataS1.append(S[i][0])\n",
        "      targetS1.append(S[i][1])\n",
        "  return [dataS1, targetS1, dataS2, targetS2]\n",
        "\n",
        "#Tester sur Iris\n",
        "[dataS1, targetS1, dataS2, targetS2] = split(S)\n",
        "print(f\"dataS1 = {len(dataS1)}  targetS1 = {len(targetS1)}\")\n",
        "print(f\"dataS2 = {len(dataS2)}  targetS2 = {len(targetS2)}\")"
      ],
      "metadata": {
        "colab": {
          "base_uri": "https://localhost:8080/"
        },
        "id": "sSG8nvfQ8TBz",
        "outputId": "38cfba1f-b9dc-4c08-eb8a-0e618450c59e"
      },
      "execution_count": 12,
      "outputs": [
        {
          "output_type": "stream",
          "name": "stdout",
          "text": [
            "dataS1 = 100  targetS1 = 100\n",
            "dataS2 = 50  targetS2 = 50\n"
          ]
        }
      ]
    },
    {
      "cell_type": "code",
      "source": [
        "def test(S, clf):\n",
        "\n",
        "  [dataS1, targetS1, dataS2, targetS2] = split(S)\n",
        "  clf.fit(dataS1, targetS1)\n",
        "  return 1-clf.score(dataS2, targetS2)\n",
        "\n",
        "test(S,nb)\n"
      ],
      "metadata": {
        "colab": {
          "base_uri": "https://localhost:8080/"
        },
        "id": "2B-M9epgAP7S",
        "outputId": "5e734f0a-8349-4e3a-cd82-c870bc908452"
      },
      "execution_count": 13,
      "outputs": [
        {
          "output_type": "execute_result",
          "data": {
            "text/plain": [
              "0.45999999999999996"
            ]
          },
          "metadata": {},
          "execution_count": 13
        }
      ]
    },
    {
      "cell_type": "markdown",
      "source": [
        "\n",
        "\n",
        "**L'erreur estimée est-elle plus petite que l'erreur apparente précédemment calculée ?**\n",
        "-   Non, elle est plus supérieure\n",
        "\n",
        "**Obtient-on toujours la même estimation pour l'erreur réelle ?**\n",
        "-   Non, le résultat change à chaque exécution\n",
        "\n",
        "\n"
      ],
      "metadata": {
        "id": "L_7-1HDDAcsh"
      }
    },
    {
      "cell_type": "code",
      "source": [
        "def repeat_test(S,nb, t):\n",
        "  result = 0\n",
        "  for i in range(t):\n",
        "    result += test(S,nb)\n",
        "  return result / t\n",
        "for t in [10,50,100,200,500,1000]:\n",
        "  print(f\"t = {t} | moyenne = {repeat_test(S,nb, t)}\")"
      ],
      "metadata": {
        "colab": {
          "base_uri": "https://localhost:8080/"
        },
        "id": "UPEJhxETBJNA",
        "outputId": "8418fbed-e670-4770-c3e2-e26bb372ad51"
      },
      "execution_count": 14,
      "outputs": [
        {
          "output_type": "stream",
          "name": "stdout",
          "text": [
            "t = 10 | moyenne = 0.11600000000000002\n",
            "t = 50 | moyenne = 0.19000000000000003\n",
            "t = 100 | moyenne = 0.18979999999999997\n",
            "t = 200 | moyenne = 0.19279999999999994\n",
            "t = 500 | moyenne = 0.19736000000000004\n",
            "t = 1000 | moyenne = 0.20452000000000012\n"
          ]
        }
      ]
    },
    {
      "cell_type": "code",
      "source": [
        "for t in [10,50,100,200,500,1000]:\n",
        "  moy = 0\n",
        "  for i in range(20):\n",
        "    moy += repeat_test(S,nb, t)\n",
        "  print(f\"t = {t} | 20 fois | moyenne = {moy/20}\")"
      ],
      "metadata": {
        "colab": {
          "base_uri": "https://localhost:8080/"
        },
        "id": "xafeyd52BkXF",
        "outputId": "c11e6d1e-5d6e-4bcd-979e-0d5f66757bee"
      },
      "execution_count": 15,
      "outputs": [
        {
          "output_type": "stream",
          "name": "stdout",
          "text": [
            "t = 10 | 20 fois | moyenne = 0.19240000000000004\n",
            "t = 50 | 20 fois | moyenne = 0.21103999999999998\n",
            "t = 100 | 20 fois | moyenne = 0.20969\n",
            "t = 200 | 20 fois | moyenne = 0.19972499999999993\n",
            "t = 500 | 20 fois | moyenne = 0.20327200000000026\n",
            "t = 1000 | 20 fois | moyenne = 0.20322100000000023\n"
          ]
        }
      ]
    },
    {
      "cell_type": "markdown",
      "source": [
        "**Est-ce que l'erreur moyenne est stable ou non?**\n",
        "- L'erreur moyenne est plus en plus stable \n",
        "\n",
        "**Pouvez-vous interpréter ce résultat?**\n",
        "- Plus l'ensemble de données est grand, plus les taux d'erreur converge vers le taux réel d'erreur.\n",
        "\n",
        "**Est-ce que l'erreur estimée (dans sa version stable), dans le cas d'un échantillon de test\n",
        "qui ne prend que le 10ème de l'échantillon initial, est la même qu'avec la proportion\n",
        "d'1/3 ?**\n",
        "\n",
        "Pour réaliser cette comparaison, on a besoin de modifier la fonction `split(S)`\n",
        "- L'erreur avec la proportion d'1/3 est `0.20`\n",
        "- L'erreur avec le 10éme de l'échantillon initial est `0.13`"
      ],
      "metadata": {
        "id": "E3Qg0g4BCMw7"
      }
    },
    {
      "cell_type": "code",
      "source": [
        "def split(S):\n",
        "  s2_size = len(S)*0.1 # Le 10éme de l'échantillon initial\n",
        "  s2_indexes = sample(range(len(S)),k=round(s2_size))\n",
        "\n",
        "  dataS1 = []\n",
        "  targetS1 = []\n",
        "  dataS2 = []\n",
        "  targetS2 = []\n",
        "  for i in range(len(S)):\n",
        "    if i in s2_indexes:\n",
        "      dataS2.append(S[i][0])\n",
        "      targetS2.append(S[i][1])\n",
        "    else:\n",
        "      dataS1.append(S[i][0])\n",
        "      targetS1.append(S[i][1])\n",
        "  return [dataS1, targetS1, dataS2, targetS2]"
      ],
      "metadata": {
        "id": "O6f5Po2jVKwD"
      },
      "execution_count": 16,
      "outputs": []
    },
    {
      "cell_type": "markdown",
      "source": [
        " On va tester différent test sizes."
      ],
      "metadata": {
        "id": "iz785ucfVjE_"
      }
    },
    {
      "cell_type": "code",
      "source": [
        "from sklearn.model_selection import train_test_split\n",
        "from numpy import arange\n",
        "\n",
        "def test_it(test_size=.33):\n",
        "  X_train, X_test, y_train, y_test = train_test_split(irisData.data, irisData.target,test_size=test_size)\n",
        "  nb.fit(X_train, y_train)\n",
        "  print(f\"Test size= {test_size}    Accuracy = {nb.score(X_test, y_test)}   Taux d'erreur = {1-nb.score(X_test, y_test)}\")\n",
        "  return 1-nb.score(X_test, y_test)\n",
        "\n",
        "min_error_test_size = None\n",
        "min_error = None\n",
        "avg_error = 0\n",
        "test_sizes = arange(.05, 0.5, .05)\n",
        "for test_size in test_sizes:\n",
        "  error = test_it(test_size)\n",
        "  avg_error += error\n",
        "  if (min_error_test_size is None):\n",
        "    min_error_test_size = test_size\n",
        "    min_error = error\n",
        "  else:\n",
        "    if error < min_error:\n",
        "      min_error = error\n",
        "      min_error_test_size = test_size\n",
        "\n",
        "print(f\"min_error is {min_error} with test_size = {min_error_test_size}\")\n",
        "print(f\"Erreur moyenne = {avg_error/ len(test_sizes)}\")"
      ],
      "metadata": {
        "colab": {
          "base_uri": "https://localhost:8080/"
        },
        "id": "IQZPJw0AVh61",
        "outputId": "f98d7181-bd61-495d-a3fa-c685e631d5c6"
      },
      "execution_count": 17,
      "outputs": [
        {
          "output_type": "stream",
          "name": "stdout",
          "text": [
            "Test size= 0.05    Accuracy = 1.0   Taux d'erreur = 0.0\n",
            "Test size= 0.1    Accuracy = 0.7333333333333333   Taux d'erreur = 0.2666666666666667\n",
            "Test size= 0.15000000000000002    Accuracy = 0.6521739130434783   Taux d'erreur = 0.34782608695652173\n",
            "Test size= 0.2    Accuracy = 0.9666666666666667   Taux d'erreur = 0.033333333333333326\n",
            "Test size= 0.25    Accuracy = 0.8947368421052632   Taux d'erreur = 0.10526315789473684\n",
            "Test size= 0.3    Accuracy = 0.5555555555555556   Taux d'erreur = 0.4444444444444444\n",
            "Test size= 0.35000000000000003    Accuracy = 0.6792452830188679   Taux d'erreur = 0.3207547169811321\n",
            "Test size= 0.4    Accuracy = 0.8333333333333334   Taux d'erreur = 0.16666666666666663\n",
            "Test size= 0.45    Accuracy = 0.5735294117647058   Taux d'erreur = 0.42647058823529416\n",
            "min_error is 0.0 with test_size = 0.05\n",
            "Erreur moyenne = 0.23460285124208843\n"
          ]
        }
      ]
    },
    {
      "cell_type": "markdown",
      "source": [
        "2.2 Estimer l'erreur réelle par validation croisée"
      ],
      "metadata": {
        "id": "lK4RO_9uWaQR"
      }
    },
    {
      "cell_type": "code",
      "source": [
        "from sklearn.model_selection import cross_val_score\n",
        "\n",
        "def test_fold(fold):\n",
        "  error_rate = 1 - cross_val_score(nb, irisData.data, irisData.target, cv=fold)\n",
        "  return 1-error_rate\n",
        "def test_it(params,fn):\n",
        "  for param in params:\n",
        "    scores = fn(param)\n",
        "    print(\"K= %d folds | Taux d'erreur: %0.4f (+/- %0.2f)\" % (param,1-scores.mean(), scores.std() * 2))\n",
        "\n",
        "test_it([10,2,3,5,8],test_fold)"
      ],
      "metadata": {
        "colab": {
          "base_uri": "https://localhost:8080/"
        },
        "id": "JTofB-8lWfHn",
        "outputId": "43d117aa-edf9-4d15-c7b4-93ac2b0a3841"
      },
      "execution_count": 18,
      "outputs": [
        {
          "output_type": "stream",
          "name": "stdout",
          "text": [
            "K= 10 folds | Taux d'erreur: 0.0467 (+/- 0.13)\n",
            "K= 2 folds | Taux d'erreur: 0.0467 (+/- 0.01)\n",
            "K= 3 folds | Taux d'erreur: 0.0533 (+/- 0.04)\n",
            "K= 5 folds | Taux d'erreur: 0.0467 (+/- 0.09)\n",
            "K= 8 folds | Taux d'erreur: 0.0526 (+/- 0.12)\n"
          ]
        }
      ]
    },
    {
      "cell_type": "markdown",
      "source": [
        "## tableau recapitulatif des taux d'erreurs"
      ],
      "metadata": {
        "id": "xattImkMXEuK"
      }
    },
    {
      "cell_type": "code",
      "source": [
        "from sklearn.naive_bayes import MultinomialNB\n",
        "from sklearn.tree import DecisionTreeClassifier\n",
        "from sklearn.ensemble import RandomForestClassifier\n",
        "from sklearn.svm import SVC\n",
        "from sklearn.neighbors import KNeighborsClassifier\n",
        "\n",
        "# Performances sur l'ensemble d'apprentissage\n",
        "def performance_method1(clf, X, y):\n",
        "  clf.fit(X,y)\n",
        "  return 1 - clf.score(X,y)\n",
        "# Par division de l'échantillon d'apprentissage\n",
        "def performance_method2(clf, X, y):\n",
        "  X_train, X_test, y_train, y_test = train_test_split(X,y, test_size=.33)\n",
        "  clf.fit(X_train, y_train)\n",
        "  return 1 - clf.score(X_test, y_test)\n",
        "# Par la validation croisée\n",
        "def performance_method3(clf, X, y):\n",
        "  error_rate = 1 - cross_val_score(clf, X, y).mean()\n",
        "  return error_rate\n",
        "\n",
        "performances = {\n",
        "  \"Performances sur l'ensemble d'apprentissage\": performance_method1,\n",
        "  \"Par division de l'échantillon d'apprentissage\": performance_method2,\n",
        "  \"Par la validation croisée\":performance_method3\n",
        "}\n",
        "\n",
        "classifiers = {\n",
        "    \"Naive Bayes\": MultinomialNB(fit_prior=True),\n",
        "    \"Arbre de décision\": DecisionTreeClassifier(),\n",
        "    \"Random forest\": RandomForestClassifier(),\n",
        "    \"SVM Classifier\": SVC(),\n",
        "    \"KNN\": KNeighborsClassifier(),\n",
        "}\n",
        "\n",
        "def generate_markdown_report(X, y):\n",
        "  print(\"| |\"+\"|\".join([perf_label for perf_label in performances])+\"|\")\n",
        "  print(\"|-|\"+\"|\".join([\"-\" for temp in performances])+\"|\")\n",
        "  for clf_label, clf in classifiers.items():\n",
        "    print(\"|\", clf_label, end=\"|\")\n",
        "    for perf_label, performance_fn in performances.items():\n",
        "      print(\"%.4f\"%performance_fn(clf, X, y), end=\"|\")\n",
        "    print()\n",
        "\n",
        "generate_markdown_report(irisData.data, irisData.target)"
      ],
      "metadata": {
        "colab": {
          "base_uri": "https://localhost:8080/"
        },
        "id": "1rMIj43BWpFo",
        "outputId": "8344fd84-8858-45cd-d1d4-a1712b399638"
      },
      "execution_count": 19,
      "outputs": [
        {
          "output_type": "stream",
          "name": "stdout",
          "text": [
            "| |Performances sur l'ensemble d'apprentissage|Par division de l'échantillon d'apprentissage|Par la validation croisée|\n",
            "|-|-|-|-|\n",
            "| Naive Bayes|0.0467|0.0800|0.0467|\n",
            "| Arbre de décision|0.0000|0.0600|0.0333|\n",
            "| Random forest|0.0000|0.0600|0.0333|\n",
            "| SVM Classifier|0.0267|0.0400|0.0333|\n",
            "| KNN|0.0333|0.0200|0.0267|\n"
          ]
        }
      ]
    },
    {
      "cell_type": "markdown",
      "source": [
        "**Est-ce que les erreurs obtenues par la méthode naïve Bayes et par la méthode arbre de décision, vous permettent d'indiquer si une méthode de classification est meilleure qu'une autre ?**\n",
        "- On ne peut pas considérer qu'une méthode de classification est meilleure qu'une autre seulement par la comparaison de taux d'erreur. Cela dépend fortement à la nature du dataset. Certains algorithmes sont plus adapté à certains problèmes que d'autres."
      ],
      "metadata": {
        "id": "0wXM1XPIXRYj"
      }
    }
  ]
}