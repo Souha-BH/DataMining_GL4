{
  "nbformat": 4,
  "nbformat_minor": 0,
  "metadata": {
    "colab": {
      "name": "TP4.ipynb",
      "provenance": [],
      "collapsed_sections": [],
      "include_colab_link": true
    },
    "kernelspec": {
      "name": "python3",
      "display_name": "Python 3"
    },
    "language_info": {
      "name": "python"
    }
  },
  "cells": [
    {
      "cell_type": "markdown",
      "metadata": {
        "id": "view-in-github",
        "colab_type": "text"
      },
      "source": [
        "<a href=\"https://colab.research.google.com/github/Souha-BH/DataMining_GL4/blob/main/TP4.ipynb\" target=\"_parent\"><img src=\"https://colab.research.google.com/assets/colab-badge.svg\" alt=\"Open In Colab\"/></a>"
      ]
    },
    {
      "cell_type": "markdown",
      "source": [
        "### Partie 1 : Données de travail"
      ],
      "metadata": {
        "id": "0diEiLacEXmV"
      }
    },
    {
      "cell_type": "code",
      "execution_count": 7,
      "metadata": {
        "colab": {
          "base_uri": "https://localhost:8080/"
        },
        "id": "Ir8mEbSG8IC4",
        "outputId": "8182d577-560b-400a-9383-c8691c4d9b6d"
      },
      "outputs": [
        {
          "output_type": "stream",
          "name": "stdout",
          "text": [
            "         calories      sodium     calcium    lipides     retinol    folates  \\\n",
            "count   29.000000   29.000000   29.000000  29.000000   29.000000  29.000000   \n",
            "mean   300.034483  210.086207  185.734483  24.158621   67.562069  13.010345   \n",
            "std     91.914356  108.678923   72.528882   8.129642   24.163098  11.723339   \n",
            "min     70.000000   22.000000   72.600000   3.400000   37.100000   1.200000   \n",
            "25%    292.000000  140.000000  132.900000  23.400000   51.600000   4.900000   \n",
            "50%    321.000000  223.000000  202.300000  26.300000   62.300000   6.400000   \n",
            "75%    355.000000  276.000000  220.500000  29.100000   76.400000  21.100000   \n",
            "max    406.000000  432.000000  334.600000  33.300000  150.500000  36.400000   \n",
            "\n",
            "       proteines  cholesterol  magnesium  \n",
            "count  29.000000    29.000000  29.000000  \n",
            "mean   20.168966    74.586207  26.965517  \n",
            "std     6.959788    28.245755  11.318388  \n",
            "min     4.100000    10.000000  10.000000  \n",
            "25%    17.800000    70.000000  20.000000  \n",
            "50%    21.000000    80.000000  26.000000  \n",
            "75%    23.400000    90.000000  30.000000  \n",
            "max    35.700000   120.000000  51.000000  \n",
            "(29, 9)\n",
            "                    calories  sodium  calcium  lipides  retinol  folates  \\\n",
            "Fromages                                                                   \n",
            "CarredelEst              314   353.5     72.6     26.3     51.6     30.3   \n",
            "Babybel                  314   238.0    209.8     25.1     63.7      6.4   \n",
            "Beaufort                 401   112.0    259.4     33.3     54.9      1.2   \n",
            "Bleu                     342   336.0    211.1     28.9     37.1     27.5   \n",
            "Camembert                264   314.0    215.9     19.5    103.0     36.4   \n",
            "Cantal                   367   256.0    264.0     28.8     48.8      5.7   \n",
            "Chabichou                344   192.0     87.2     27.9     90.1     36.3   \n",
            "Chaource                 292   276.0    132.9     25.4    116.4     32.5   \n",
            "Cheddar                  406   172.0    182.3     32.5     76.4      4.9   \n",
            "Comte                    399    92.0    220.5     32.4     55.9      1.3   \n",
            "Coulomniers              308   222.0     79.2     25.6     63.6     21.1   \n",
            "Edam                     327   148.0    272.2     24.7     65.7      5.5   \n",
            "Emmental                 378    60.0    308.2     29.4     56.3      2.4   \n",
            "Fr.chevrepatemolle       206   160.0     72.8     18.5    150.5     31.0   \n",
            "Fr.fondu.45              292   390.0    168.5     24.0     77.4      5.5   \n",
            "Fr.frais20nat.            80    41.0    146.3      3.5     50.0     20.0   \n",
            "Fr.frais40nat.           115    25.0     94.8      7.8     64.3     22.6   \n",
            "Maroilles                338   311.0    236.7     29.1     46.7      3.6   \n",
            "Morbier                  347   285.0    219.0     29.5     57.6      5.8   \n",
            "Parmesan                 381   240.0    334.6     27.5     90.0      5.2   \n",
            "Petitsuisse40            142    22.0     78.2     10.4     63.4     20.4   \n",
            "PontlEveque              300   223.0    156.7     23.4     53.0      4.0   \n",
            "Pyrenees                 355   232.0    178.9     28.0     51.5      6.8   \n",
            "Reblochon                309   272.0    202.3     24.6     73.1      8.1   \n",
            "Rocquefort               370   432.0    162.0     31.2     83.5     13.3   \n",
            "SaintPaulin              298   205.0    261.0     23.3     60.4      6.7   \n",
            "Tome                     321   252.0    125.5     27.3     62.3      6.2   \n",
            "Vacherin                 321   140.0    218.0     29.3     49.2      3.7   \n",
            "Yaourtlaitent.nat.        70    91.0    215.7      3.4     42.9      2.9   \n",
            "\n",
            "                    proteines  cholesterol  magnesium  \n",
            "Fromages                                               \n",
            "CarredelEst              21.0           70         20  \n",
            "Babybel                  22.6           70         27  \n",
            "Beaufort                 26.6          120         41  \n",
            "Bleu                     20.2           90         27  \n",
            "Camembert                23.4           60         20  \n",
            "Cantal                   23.0           90         30  \n",
            "Chabichou                19.5           80         36  \n",
            "Chaource                 17.8           70         25  \n",
            "Cheddar                  26.0          110         28  \n",
            "Comte                    29.2          120         51  \n",
            "Coulomniers              20.5           80         13  \n",
            "Edam                     24.7           80         44  \n",
            "Emmental                 29.4          110         45  \n",
            "Fr.chevrepatemolle       11.1           50         16  \n",
            "Fr.fondu.45              16.8           70         20  \n",
            "Fr.frais20nat.            8.3           10         11  \n",
            "Fr.frais40nat.            7.0           30         10  \n",
            "Maroilles                20.4           90         40  \n",
            "Morbier                  23.6           80         30  \n",
            "Parmesan                 35.7           80         46  \n",
            "Petitsuisse40             9.4           20         10  \n",
            "PontlEveque              21.1           70         22  \n",
            "Pyrenees                 22.4           90         25  \n",
            "Reblochon                19.7           80         30  \n",
            "Rocquefort               18.7          100         25  \n",
            "SaintPaulin              23.3           70         26  \n",
            "Tome                     21.8           80         20  \n",
            "Vacherin                 17.6           80         30  \n",
            "Yaourtlaitent.nat.        4.1           13         14  \n"
          ]
        }
      ],
      "source": [
        "import pandas as pd\n",
        "from pandas_profiling import ProfileReport\n",
        "fromage=pd.read_table(r\"/fromage1.txt\",sep=\"\\t\",header=0,index_col=0)\n",
        "print(fromage.describe())\n",
        "print(fromage.shape)\n",
        "print(fromage)\n",
        "#rofile = ProfileReport(fromage)\n",
        "#print(profile)"
      ]
    },
    {
      "cell_type": "markdown",
      "source": [
        "**Comprendre et programmer les quelques lignes Précédentes : comment sont réparties\n",
        "les données? Quels sont les attributs de ce jeu de données?**\n",
        "\n",
        "Les données sont réparties de la façcon suivante:\n",
        "- 29 instances\n",
        "- 9 attributs : calories, sodium, calcium, lipides, retinol, folates, proteines,\n",
        "cholesterol et magnesium\n"
      ],
      "metadata": {
        "id": "-mdVaI-o8yaQ"
      }
    },
    {
      "cell_type": "code",
      "source": [
        "import matplotlib.pyplot as plt\n",
        "from pandas.plotting import scatter_matrix\n",
        "scatter_matrix(fromage, alpha=0.5,figsize=(9,9), diagonal='kde')\n",
        "plt.show()"
      ],
      "metadata": {
        "id": "W5gtApkN-enq"
      },
      "execution_count": 8,
      "outputs": []
    },
    {
      "cell_type": "markdown",
      "source": [
        "**Qu’est-ce que vous remarquez ?**\n",
        "\n",
        "On utilise scatter_matrix pour voir la corrélation entre les différents attributs. On remarque que les attributs calories et cholesterol sont positivement corrélées. Aussi on a les attributs calories et lipides sont positivement corrélées. De meme pour les lipides et cholesterol. On peut donc éliminer deux de ces attributs. (On les retrouvera automatiquement dans le meme cluster)\n"
      ],
      "metadata": {
        "id": "2aFFniNABrG4"
      }
    },
    {
      "cell_type": "markdown",
      "source": [
        "### Partie 2 : Méthode des centres mobiles"
      ],
      "metadata": {
        "id": "88dZJtKQFwOt"
      }
    },
    {
      "cell_type": "code",
      "source": [
        "import numpy as np\n",
        "from sklearn import cluster\n",
        "np.random.seed(0)\n",
        "kmeans = cluster.KMeans(n_clusters = 4)\n",
        "kmeans.fit(fromage)\n",
        "idk = np.argsort(kmeans.labels_)\n",
        "print(pd.DataFrame(fromage.index[idk],kmeans.labels_[idk]))\n",
        "print(kmeans.transform(fromage))\n",
        "print(\"cluster centers \\n\",kmeans.cluster_centers_)"
      ],
      "metadata": {
        "id": "BOSq9Rm-BkZG",
        "colab": {
          "base_uri": "https://localhost:8080/"
        },
        "outputId": "cce6247f-c0d0-4f53-fbd9-2bc916a8b990"
      },
      "execution_count": 9,
      "outputs": [
        {
          "output_type": "stream",
          "name": "stdout",
          "text": [
            "             Fromages\n",
            "0         CarredelEst\n",
            "0                Tome\n",
            "0         PontlEveque\n",
            "0           Chabichou\n",
            "0            Chaource\n",
            "0         Coulomniers\n",
            "0  Fr.chevrepatemolle\n",
            "1            Beaufort\n",
            "1         SaintPaulin\n",
            "1             Cheddar\n",
            "1               Comte\n",
            "1                Edam\n",
            "1            Emmental\n",
            "1            Vacherin\n",
            "1            Parmesan\n",
            "2       Petitsuisse40\n",
            "2  Yaourtlaitent.nat.\n",
            "2      Fr.frais20nat.\n",
            "2      Fr.frais40nat.\n",
            "3           Maroilles\n",
            "3             Morbier\n",
            "3              Cantal\n",
            "3           Camembert\n",
            "3            Pyrenees\n",
            "3           Reblochon\n",
            "3          Rocquefort\n",
            "3                Bleu\n",
            "3             Babybel\n",
            "3         Fr.fondu.45\n",
            "[[123.59715669 285.36163076 384.27301005 145.46927992]\n",
            " [110.54651897 118.43379084 303.10311983  71.72681089]\n",
            " [235.25665316  56.72603293 349.91323389 218.1879268 ]\n",
            " [159.09984736 200.30401971 393.76898843  45.60922494]\n",
            " [141.19170858 210.31138298 332.43471728  84.66051854]\n",
            " [180.75982487 111.73150994 371.97076666  86.99931839]\n",
            " [ 72.0404549  182.80599775 298.65300308 170.2611917 ]\n",
            " [ 57.86280572 204.98823213 311.48990553 105.53037193]\n",
            " [156.41570984  92.26223665 348.48685233 159.88151676]\n",
            " [224.31195752  79.32509258 333.83554522 230.88643399]\n",
            " [ 39.94716153 204.4018782  285.29211565 155.61953412]\n",
            " [197.13338124  43.74211715 293.81905359 172.55995306]\n",
            " [289.57992728 102.59674855 343.1669947  273.3780741 ]\n",
            " [144.41931015 265.24828993 195.86579908 252.80069897]\n",
            " [164.74401355 271.72958122 400.47054979 101.45152241]\n",
            " [307.24796873 336.96303256  27.57918146 378.20198492]\n",
            " [286.92623741 330.65941362  48.43507252 376.38946771]\n",
            " [163.69886115 169.20512053 379.74839203  39.80348477]\n",
            " [137.46307556 146.31641334 360.87135     31.87791398]\n",
            " [247.92574637 127.37007228 405.05415842 157.0268493 ]\n",
            " [275.48594208 322.76561591  73.02996816 370.72406639]\n",
            " [ 66.39975258 145.61200264 273.9400961  103.74546448]\n",
            " [103.21034693 118.1602421  327.69454718  85.09362726]\n",
            " [106.4868939  149.56115075 323.02206001  41.96502591]\n",
            " [215.62761551 302.57210349 480.78906108 141.69363218]\n",
            " [163.61948015  93.47945128 289.74900561 120.31124386]\n",
            " [ 44.67517687 176.06769384 309.5039923   98.83002277]\n",
            " [158.9611408   63.47704556 263.14012664 168.16769428]\n",
            " [304.65582689 316.6232269  101.24362326 346.9503587 ]]\n",
            "cluster centers \n",
            " [[297.85714286 239.78571429 103.84285714  24.91428571  83.92857143\n",
            "   23.05714286  18.97142857  71.42857143  21.71428571]\n",
            " [363.875      146.125      257.025       29.05        63.6\n",
            "    3.8625      26.5625      96.25        38.875     ]\n",
            " [101.75        44.75       133.75         6.275       55.15\n",
            "   16.475        7.2         18.25        11.25      ]\n",
            " [329.8        306.6        206.82        26.87        64.24\n",
            "   11.91        21.08        82.          27.4       ]]\n"
          ]
        }
      ]
    },
    {
      "cell_type": "code",
      "source": [
        "from sklearn import metrics\n",
        "#utilisation de la métrique \"silhouette\"\n",
        "res = np.arange(9, dtype =\"double\")\n",
        "for k in np.arange(9):\n",
        "  km = cluster.KMeans(n_clusters = k+2)\n",
        "  km.fit(fromage)\n",
        "  res[k] = metrics.silhouette_score(fromage,km.labels_)\n",
        "print (res)\n",
        "#graphique\n",
        "import matplotlib.pyplot as plt\n",
        "plt.title(\"silhouette\")\n",
        "plt.xlabel(\"# of clusters\")\n",
        "plt.plot(np.arange(2,11,1),(res))\n",
        "plt.show"
      ],
      "metadata": {
        "colab": {
          "base_uri": "https://localhost:8080/"
        },
        "id": "W2_K8TTyHq32",
        "outputId": "007f6a50-f0c6-4de4-826b-240c3e382741"
      },
      "execution_count": 10,
      "outputs": [
        {
          "output_type": "stream",
          "name": "stdout",
          "text": [
            "[0.50681355 0.37299771 0.3282387  0.35737616 0.32267618 0.28114392\n",
            " 0.29450378 0.23904343 0.25006247]\n"
          ]
        },
        {
          "output_type": "execute_result",
          "data": {
            "text/plain": [
              "<function matplotlib.pyplot.show>"
            ]
          },
          "metadata": {},
          "execution_count": 10
        }
      ]
    },
    {
      "cell_type": "markdown",
      "source": [
        "**2. Quelle est la meilleure valeur de k (nombre de clusters) selon la métrique silhouette ?**\n",
        "\n",
        "Le score le plus élévé est de 0.506 pour un nombre de clusters de 2. Cependant, il faut éviter d'utiliser un clustering à 2. Donc on choisit le nombre 3 pour un score de 0.37 ou 5 avec un score de 0.35. (réellement le meilleur choix est de 4)"
      ],
      "metadata": {
        "id": "vG6gkIzqMZ1x"
      }
    },
    {
      "cell_type": "markdown",
      "source": [
        "### Partie 3 : Classification ascendante hiérarchique"
      ],
      "metadata": {
        "id": "ovKE3u4-NBSk"
      }
    },
    {
      "cell_type": "code",
      "source": [
        "import pandas\n",
        "import numpy as np\n",
        "#librairies pour la CAH\n",
        "from matplotlib import pyplot as plt\n",
        "from scipy.cluster.hierarchy import dendrogram, linkage, fcluster\n",
        "Z = linkage(fromage,method='ward', metric='euclidean')\n",
        "#affichage du dendrogramme\n",
        "plt.title(\"CAH\")\n",
        "plt.title('CAH avec matérialisation des 4 classes')\n",
        "dendrogram(Z,labels=fromage.index,orientation='left',color_threshold=255)\n",
        "plt.show()\n",
        "groupes_cah = fcluster(Z, t = 255,criterion='distance')\n",
        "print(groupes_cah)\n",
        "#index triés des groupes\n",
        "idg = np.argsort(groupes_cah)\n",
        "#affichage des observations et leurs groupes\n",
        "print(pandas.DataFrame(fromage.index[idg],groupes_cah[idg]))"
      ],
      "metadata": {
        "colab": {
          "base_uri": "https://localhost:8080/"
        },
        "id": "9GVcY2cHNDC1",
        "outputId": "b40a8bd1-a8c7-4c66-fd75-2a4541bc9b02"
      },
      "execution_count": 11,
      "outputs": [
        {
          "output_type": "stream",
          "name": "stdout",
          "text": [
            "[3 4 2 3 3 2 4 4 2 2 4 2 2 4 3 1 1 3 3 2 1 4 4 4 3 2 4 2 1]\n",
            "             Fromages\n",
            "1  Yaourtlaitent.nat.\n",
            "1       Petitsuisse40\n",
            "1      Fr.frais40nat.\n",
            "1      Fr.frais20nat.\n",
            "2         SaintPaulin\n",
            "2            Beaufort\n",
            "2              Cantal\n",
            "2            Parmesan\n",
            "2             Cheddar\n",
            "2               Comte\n",
            "2                Edam\n",
            "2            Emmental\n",
            "2            Vacherin\n",
            "3          Rocquefort\n",
            "3             Morbier\n",
            "3           Maroilles\n",
            "3         CarredelEst\n",
            "3           Camembert\n",
            "3                Bleu\n",
            "3         Fr.fondu.45\n",
            "4         Coulomniers\n",
            "4            Chaource\n",
            "4           Chabichou\n",
            "4         PontlEveque\n",
            "4            Pyrenees\n",
            "4           Reblochon\n",
            "4             Babybel\n",
            "4                Tome\n",
            "4  Fr.chevrepatemolle\n"
          ]
        }
      ]
    },
    {
      "cell_type": "markdown",
      "source": [
        "**2. Interpréter les résultats**\n",
        "\n",
        "Selon l'algorithme CAH, le meilleur nombre de clusters est 4.\n",
        "\n",
        "**3. Donnez la correspondance entre les groupes de la CAH et les clusters de Kmeans en utilisant la méthode pandas.crosstab**\n"
      ],
      "metadata": {
        "id": "eJ5EHMbyPVZf"
      }
    },
    {
      "cell_type": "code",
      "source": [
        "pd.crosstab(kmeans.labels_,groupes_cah)"
      ],
      "metadata": {
        "colab": {
          "base_uri": "https://localhost:8080/",
          "height": 206
        },
        "id": "EDAkkWaFNuup",
        "outputId": "a7fb5b76-baee-4d01-8b54-1901f6faa7ba"
      },
      "execution_count": 12,
      "outputs": [
        {
          "output_type": "execute_result",
          "data": {
            "text/plain": [
              "col_0  1  2  3  4\n",
              "row_0            \n",
              "0      0  0  1  6\n",
              "1      0  8  0  0\n",
              "2      4  0  0  0\n",
              "3      0  1  6  3"
            ],
            "text/html": [
              "\n",
              "  <div id=\"df-9acaa61b-ffa5-4084-a012-773a3b09b4a1\">\n",
              "    <div class=\"colab-df-container\">\n",
              "      <div>\n",
              "<style scoped>\n",
              "    .dataframe tbody tr th:only-of-type {\n",
              "        vertical-align: middle;\n",
              "    }\n",
              "\n",
              "    .dataframe tbody tr th {\n",
              "        vertical-align: top;\n",
              "    }\n",
              "\n",
              "    .dataframe thead th {\n",
              "        text-align: right;\n",
              "    }\n",
              "</style>\n",
              "<table border=\"1\" class=\"dataframe\">\n",
              "  <thead>\n",
              "    <tr style=\"text-align: right;\">\n",
              "      <th>col_0</th>\n",
              "      <th>1</th>\n",
              "      <th>2</th>\n",
              "      <th>3</th>\n",
              "      <th>4</th>\n",
              "    </tr>\n",
              "    <tr>\n",
              "      <th>row_0</th>\n",
              "      <th></th>\n",
              "      <th></th>\n",
              "      <th></th>\n",
              "      <th></th>\n",
              "    </tr>\n",
              "  </thead>\n",
              "  <tbody>\n",
              "    <tr>\n",
              "      <th>0</th>\n",
              "      <td>0</td>\n",
              "      <td>0</td>\n",
              "      <td>1</td>\n",
              "      <td>6</td>\n",
              "    </tr>\n",
              "    <tr>\n",
              "      <th>1</th>\n",
              "      <td>0</td>\n",
              "      <td>8</td>\n",
              "      <td>0</td>\n",
              "      <td>0</td>\n",
              "    </tr>\n",
              "    <tr>\n",
              "      <th>2</th>\n",
              "      <td>4</td>\n",
              "      <td>0</td>\n",
              "      <td>0</td>\n",
              "      <td>0</td>\n",
              "    </tr>\n",
              "    <tr>\n",
              "      <th>3</th>\n",
              "      <td>0</td>\n",
              "      <td>1</td>\n",
              "      <td>6</td>\n",
              "      <td>3</td>\n",
              "    </tr>\n",
              "  </tbody>\n",
              "</table>\n",
              "</div>\n",
              "      <button class=\"colab-df-convert\" onclick=\"convertToInteractive('df-9acaa61b-ffa5-4084-a012-773a3b09b4a1')\"\n",
              "              title=\"Convert this dataframe to an interactive table.\"\n",
              "              style=\"display:none;\">\n",
              "        \n",
              "  <svg xmlns=\"http://www.w3.org/2000/svg\" height=\"24px\"viewBox=\"0 0 24 24\"\n",
              "       width=\"24px\">\n",
              "    <path d=\"M0 0h24v24H0V0z\" fill=\"none\"/>\n",
              "    <path d=\"M18.56 5.44l.94 2.06.94-2.06 2.06-.94-2.06-.94-.94-2.06-.94 2.06-2.06.94zm-11 1L8.5 8.5l.94-2.06 2.06-.94-2.06-.94L8.5 2.5l-.94 2.06-2.06.94zm10 10l.94 2.06.94-2.06 2.06-.94-2.06-.94-.94-2.06-.94 2.06-2.06.94z\"/><path d=\"M17.41 7.96l-1.37-1.37c-.4-.4-.92-.59-1.43-.59-.52 0-1.04.2-1.43.59L10.3 9.45l-7.72 7.72c-.78.78-.78 2.05 0 2.83L4 21.41c.39.39.9.59 1.41.59.51 0 1.02-.2 1.41-.59l7.78-7.78 2.81-2.81c.8-.78.8-2.07 0-2.86zM5.41 20L4 18.59l7.72-7.72 1.47 1.35L5.41 20z\"/>\n",
              "  </svg>\n",
              "      </button>\n",
              "      \n",
              "  <style>\n",
              "    .colab-df-container {\n",
              "      display:flex;\n",
              "      flex-wrap:wrap;\n",
              "      gap: 12px;\n",
              "    }\n",
              "\n",
              "    .colab-df-convert {\n",
              "      background-color: #E8F0FE;\n",
              "      border: none;\n",
              "      border-radius: 50%;\n",
              "      cursor: pointer;\n",
              "      display: none;\n",
              "      fill: #1967D2;\n",
              "      height: 32px;\n",
              "      padding: 0 0 0 0;\n",
              "      width: 32px;\n",
              "    }\n",
              "\n",
              "    .colab-df-convert:hover {\n",
              "      background-color: #E2EBFA;\n",
              "      box-shadow: 0px 1px 2px rgba(60, 64, 67, 0.3), 0px 1px 3px 1px rgba(60, 64, 67, 0.15);\n",
              "      fill: #174EA6;\n",
              "    }\n",
              "\n",
              "    [theme=dark] .colab-df-convert {\n",
              "      background-color: #3B4455;\n",
              "      fill: #D2E3FC;\n",
              "    }\n",
              "\n",
              "    [theme=dark] .colab-df-convert:hover {\n",
              "      background-color: #434B5C;\n",
              "      box-shadow: 0px 1px 3px 1px rgba(0, 0, 0, 0.15);\n",
              "      filter: drop-shadow(0px 1px 2px rgba(0, 0, 0, 0.3));\n",
              "      fill: #FFFFFF;\n",
              "    }\n",
              "  </style>\n",
              "\n",
              "      <script>\n",
              "        const buttonEl =\n",
              "          document.querySelector('#df-9acaa61b-ffa5-4084-a012-773a3b09b4a1 button.colab-df-convert');\n",
              "        buttonEl.style.display =\n",
              "          google.colab.kernel.accessAllowed ? 'block' : 'none';\n",
              "\n",
              "        async function convertToInteractive(key) {\n",
              "          const element = document.querySelector('#df-9acaa61b-ffa5-4084-a012-773a3b09b4a1');\n",
              "          const dataTable =\n",
              "            await google.colab.kernel.invokeFunction('convertToInteractive',\n",
              "                                                     [key], {});\n",
              "          if (!dataTable) return;\n",
              "\n",
              "          const docLinkHtml = 'Like what you see? Visit the ' +\n",
              "            '<a target=\"_blank\" href=https://colab.research.google.com/notebooks/data_table.ipynb>data table notebook</a>'\n",
              "            + ' to learn more about interactive tables.';\n",
              "          element.innerHTML = '';\n",
              "          dataTable['output_type'] = 'display_data';\n",
              "          await google.colab.output.renderOutput(dataTable, element);\n",
              "          const docLink = document.createElement('div');\n",
              "          docLink.innerHTML = docLinkHtml;\n",
              "          element.appendChild(docLink);\n",
              "        }\n",
              "      </script>\n",
              "    </div>\n",
              "  </div>\n",
              "  "
            ]
          },
          "metadata": {},
          "execution_count": 12
        }
      ]
    }
  ]
}